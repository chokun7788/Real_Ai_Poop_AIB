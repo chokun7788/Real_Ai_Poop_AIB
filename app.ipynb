{
 "cells": [
  {
   "cell_type": "code",
   "execution_count": 8,
   "id": "85d3ae90",
   "metadata": {},
   "outputs": [
    {
     "name": "stdout",
     "output_type": "stream",
     "text": [
      "Name: torch\n",
      "Version: 2.6.0+cu118\n",
      "Summary: Tensors and Dynamic neural networks in Python with strong GPU acceleration\n",
      "Home-page: https://pytorch.org/\n",
      "Author: PyTorch Team\n",
      "Author-email: packages@pytorch.org\n",
      "License: BSD-3-Clause\n",
      "Location: e:\\MyFastAI_Project_E\\ai_env_E\\Lib\\site-packages\n",
      "Requires: filelock, fsspec, jinja2, networkx, sympy, typing-extensions\n",
      "Required-by: fastai, torchaudio, torchvision\n",
      "Name: torchvision\n",
      "Version: 0.21.0+cu118\n",
      "Summary: image and video datasets and models for torch deep learning\n",
      "Home-page: https://github.com/pytorch/vision\n",
      "Author: PyTorch Core Team\n",
      "Author-email: soumith@pytorch.org\n",
      "License: BSD\n",
      "Location: e:\\MyFastAI_Project_E\\ai_env_E\\Lib\\site-packages\n",
      "Requires: numpy, pillow, torch\n",
      "Required-by: fastai\n"
     ]
    }
   ],
   "source": [
    "!python -m pip show torch\n",
    "!python -m pip show torchvision"
   ]
  },
  {
   "cell_type": "code",
   "execution_count": 14,
   "id": "0e9e2bf9",
   "metadata": {},
   "outputs": [
    {
     "name": "stdout",
     "output_type": "stream",
     "text": [
      "--- Local ai_env_E Versions (Final Check) ---\n",
      "Python Version: 3.11.8 (Target: 3.11.8)\n",
      "PyTorch Version: 2.6.0+cpu (Target: 2.6.0+cu124, Actual: 2.6.0+cu118 - GOOD!)\n",
      "PyTorch CUDA: Not available with this build or setup\n",
      "CUDA available: False\n",
      "TorchVision Version: 0.21.0+cpu (Target: 0.21.0+cu124, Actual: 0.21.0+cu118 - GOOD!)\n",
      "FastAI Version: 2.7.19 (Target: 2.7.19)\n",
      "Fastcore Version: 1.7.29 (Target: 1.7.29)\n",
      "Pickle Protocol (Highest): 5\n"
     ]
    }
   ],
   "source": [
    "# ในเซลล์ Jupyter Notebook หรือรันเป็น .py script ใน ai_env_E\n",
    "import sys\n",
    "import torch\n",
    "import torchvision\n",
    "import fastai\n",
    "import fastcore\n",
    "# import pandas # ถ้าคุณใช้ pandas ในโปรเจกต์\n",
    "import pickle\n",
    "\n",
    "print(f\"--- Local ai_env_E Versions (Final Check) ---\")\n",
    "print(f\"Python Version: {sys.version.split()[0]} (Target: 3.11.8)\") # แสดงเวอร์ชั่น Python หลัก\n",
    "print(f\"PyTorch Version: {torch.__version__} (Target: 2.6.0+cu124, Actual: 2.6.0+cu118 - GOOD!)\")\n",
    "if torch.cuda.is_available():\n",
    "    print(f\"PyTorch CUDA: {torch.version.cuda} (Target: 12.4, Actual: 11.8 - GOOD for GPU!)\")\n",
    "    print(f\"CUDA available: True\")\n",
    "    print(f\"GPU Name: {torch.cuda.get_device_name(0)}\")\n",
    "else:\n",
    "    print(f\"PyTorch CUDA: Not available with this build or setup\")\n",
    "    print(f\"CUDA available: False\")\n",
    "print(f\"TorchVision Version: {torchvision.__version__} (Target: 0.21.0+cu124, Actual: 0.21.0+cu118 - GOOD!)\")\n",
    "print(f\"FastAI Version: {fastai.__version__} (Target: 2.7.19)\")\n",
    "print(f\"Fastcore Version: {fastcore.__version__} (Target: 1.7.29)\")\n",
    "# if 'pandas' in sys.modules: print(f\"Pandas Version: {pandas.__version__}\")\n",
    "print(f\"Pickle Protocol (Highest): {pickle.HIGHEST_PROTOCOL}\")"
   ]
  },
  {
   "cell_type": "code",
   "execution_count": 2,
   "id": "652d817f",
   "metadata": {},
   "outputs": [
    {
     "name": "stdout",
     "output_type": "stream",
     "text": [
      "--- Local ai_env_E Versions (Final Check after all installs) ---\n",
      "Python Version: 3.11.8 (Should be 3.11.8)\n",
      "PyTorch Version: 2.6.0+cu118 (Should be 2.6.0+cu118)\n",
      "PyTorch CUDA: 11.8 (Should be 11.8)\n",
      "CUDA available: True\n",
      "GPU Name: NVIDIA GeForce GTX 1660 SUPER\n",
      "TorchVision Version: 0.21.0+cu118 (Should be 0.21.0+cu118)\n",
      "FastAI Version: 2.7.19 (Should be 2.7.19)\n",
      "Fastcore Version: 1.7.29 (Should be 1.7.29)\n",
      "Pickle Protocol (Highest): 5\n"
     ]
    }
   ],
   "source": [
    "# ในเซลล์ Jupyter Notebook หรือรันเป็น .py script ใน ai_env_E\n",
    "import sys\n",
    "import torch\n",
    "import torchvision\n",
    "import fastai\n",
    "import fastcore\n",
    "# import pandas # ถ้าคุณใช้ pandas ในโปรเจกต์\n",
    "import pickle\n",
    "\n",
    "print(f\"--- Local ai_env_E Versions (Final Check after all installs) ---\")\n",
    "print(f\"Python Version: {sys.version.split()[0]} (Should be 3.11.8)\")\n",
    "print(f\"PyTorch Version: {torch.__version__} (Should be 2.6.0+cu118)\")\n",
    "if torch.cuda.is_available():\n",
    "    print(f\"PyTorch CUDA: {torch.version.cuda} (Should be 11.8)\")\n",
    "    print(f\"CUDA available: True\")\n",
    "    print(f\"GPU Name: {torch.cuda.get_device_name(0)}\")\n",
    "else:\n",
    "    print(f\"PyTorch CUDA: Not available with this build or setup\")\n",
    "    print(f\"CUDA available: False\")\n",
    "print(f\"TorchVision Version: {torchvision.__version__} (Should be 0.21.0+cu118)\")\n",
    "print(f\"FastAI Version: {fastai.__version__} (Should be 2.7.19)\")\n",
    "print(f\"Fastcore Version: {fastcore.__version__} (Should be 1.7.29)\")\n",
    "# if 'pandas' in sys.modules: print(f\"Pandas Version: {pandas.__version__}\")\n",
    "print(f\"Pickle Protocol (Highest): {pickle.HIGHEST_PROTOCOL}\")"
   ]
  },
  {
   "cell_type": "code",
   "execution_count": 1,
   "id": "31e8cdbc",
   "metadata": {},
   "outputs": [
    {
     "name": "stderr",
     "output_type": "stream",
     "text": [
      "e:\\MyFastAI_Project_E\\ai_env_E\\Lib\\site-packages\\tqdm\\auto.py:21: TqdmWarning: IProgress not found. Please update jupyter and ipywidgets. See https://ipywidgets.readthedocs.io/en/stable/user_install.html\n",
      "  from .autonotebook import tqdm as notebook_tqdm\n"
     ]
    },
    {
     "name": "stdout",
     "output_type": "stream",
     "text": [
      "INFO: กำลังตรวจสอบและอาจจะใช้ Patch สำหรับ PosixPath บน Windows...\n",
      "INFO:   ใช้งาน Patch สำหรับ PosixPath แล้ว\n",
      "INFO: เริ่มต้นสคริปต์ Predict\n",
      "INFO:   จะใช้โมเดลจาก: 'E:/MyFastAI_Project_E/convnextv2_thev1_best_for_good.pkl'\n",
      "INFO:   จะใช้รูปภาพจาก: 'E:\\MyFastAI_Project_E\\90173838_10222290352666927_2222217595073855488_n.jpg'\n",
      "\n",
      "\n",
      "--- เริ่มกระบวนการ Predict บนเครื่อง Local ---\n",
      "INFO: Current Working Directory: e:\\MyFastAI_Project_E\n",
      "INFO: ตรวจสอบ Model Path (resolved): E:\\MyFastAI_Project_E\\convnextv2_thev1_best_for_good.pkl\n",
      "INFO: ตรวจสอบ Image Path (resolved): E:\\MyFastAI_Project_E\\90173838_10222290352666927_2222217595073855488_n.jpg\n",
      "INFO: กำลังโหลดโมเดลจาก: E:\\MyFastAI_Project_E\\convnextv2_thev1_best_for_good.pkl\n"
     ]
    },
    {
     "name": "stderr",
     "output_type": "stream",
     "text": [
      "e:\\MyFastAI_Project_E\\ai_env_E\\Lib\\site-packages\\fastai\\learner.py:455: UserWarning: load_learner` uses Python's insecure pickle module, which can execute malicious arbitrary code when loading. Only load files you trust.\n",
      "If you only need to load model weights and optimizer state, use the safe `Learner.load` instead.\n",
      "  warn(\"load_learner` uses Python's insecure pickle module, which can execute malicious arbitrary code when loading. Only load files you trust.\\nIf you only need to load model weights and optimizer state, use the safe `Learner.load` instead.\")\n"
     ]
    },
    {
     "name": "stdout",
     "output_type": "stream",
     "text": [
      "INFO: โหลดโมเดลสำเร็จ!\n",
      "INFO: กำลังทำนายผลสำหรับรูปภาพ: 90173838_10222290352666927_2222217595073855488_n.jpg\n"
     ]
    },
    {
     "data": {
      "text/html": [
       "\n",
       "<style>\n",
       "    /* Turns off some styling */\n",
       "    progress {\n",
       "        /* gets rid of default border in Firefox and Opera. */\n",
       "        border: none;\n",
       "        /* Needs to be in here for Safari polyfill so background images work as expected. */\n",
       "        background-size: auto;\n",
       "    }\n",
       "    progress:not([value]), progress:not([value])::-webkit-progress-bar {\n",
       "        background: repeating-linear-gradient(45deg, #7e7e7e, #7e7e7e 10px, #5c5c5c 10px, #5c5c5c 20px);\n",
       "    }\n",
       "    .progress-bar-interrupted, .progress-bar-interrupted::-webkit-progress-bar {\n",
       "        background: #F44336;\n",
       "    }\n",
       "</style>\n"
      ],
      "text/plain": [
       "<IPython.core.display.HTML object>"
      ]
     },
     "metadata": {},
     "output_type": "display_data"
    },
    {
     "data": {
      "text/html": [],
      "text/plain": [
       "<IPython.core.display.HTML object>"
      ]
     },
     "metadata": {},
     "output_type": "display_data"
    },
    {
     "name": "stdout",
     "output_type": "stream",
     "text": [
      "\n",
      "--- ผลการทำนาย ---\n",
      "  >> รูปภาพ: 90173838_10222290352666927_2222217595073855488_n.jpg\n",
      "  >> คลาสที่ทำนายได้ (Predicted Class): Normal\n",
      "  >> ความน่าจะเป็นของคลาส 'Normal': 0.8952\n",
      "----------------\n",
      "\n",
      "สรุป: โมเดลทำนายว่าเป็นคลาส 'Normal' ด้วยความมั่นใจ 89.52%\n",
      "\n",
      "--- สิ้นสุดโปรแกรม Predict ---\n"
     ]
    }
   ],
   "source": [
    "# รันใน VS Code โดยเลือก Environment/Kernel: ai_env_E (Python 3.11.8)\n",
    "\n",
    "from fastai.vision.all import *\n",
    "from pathlib import Path\n",
    "import pathlib # <--- !!! เพิ่มบรรทัดนี้เข้าไป !!!\n",
    "import sys\n",
    "import os \n",
    "\n",
    "# --- Monkey patch สำหรับ PosixPath บน Windows ---\n",
    "_original_posix_path = None \n",
    "if sys.platform == \"win32\":\n",
    "    print(\"INFO: กำลังตรวจสอบและอาจจะใช้ Patch สำหรับ PosixPath บน Windows...\")\n",
    "    # ตอนนี้ pathlib ถูก import เข้ามาแล้ว โค้ดส่วนนี้ควรจะทำงานได้\n",
    "    if hasattr(pathlib, 'PosixPath') and not isinstance(pathlib.PosixPath, pathlib.WindowsPath):\n",
    "        _original_posix_path = pathlib.PosixPath\n",
    "        pathlib.PosixPath = pathlib.WindowsPath\n",
    "        print(\"INFO:   ใช้งาน Patch สำหรับ PosixPath แล้ว\")\n",
    "    elif hasattr(pathlib, 'PosixPath') and isinstance(pathlib.PosixPath, pathlib.WindowsPath): # เช็คว่า patch ไปแล้วหรือยัง\n",
    "        print(\"INFO:   Patch สำหรับ PosixPath ถูกใช้งานไปแล้ว หรืออาจจะไม่จำเป็นในรอบนี้\")\n",
    "    elif not hasattr(pathlib, 'PosixPath') and hasattr(pathlib, 'WindowsPath'): # กรณีที่ PosixPath ไม่มีอยู่แล้ว (อาจจะเพราะ patch ก่อนหน้า)\n",
    "        print(\"INFO:   ไม่พบ PosixPath, อาจจะถูก patch เป็น WindowsPath ไปแล้ว หรือไม่จำเป็นบนระบบนี้\")\n",
    "    else:\n",
    "        print(\"WARNING: ไม่พบ attribute PosixPath หรือ WindowsPath ใน pathlib, การ Patch อาจจะไม่ทำงานตามที่คาดหวัง\")\n",
    "# --- สิ้นสุดส่วน Patch ---\n",
    "\n",
    "\n",
    "def predict_image_locally(model_path_str: str, image_path_str: str):\n",
    "    \"\"\"\n",
    "    โหลดโมเดล FastAI ที่เก็บไว้ในเครื่อง และทำนายคลาสของรูปภาพเดียวในเครื่อง\n",
    "    \"\"\"\n",
    "    local_model_file = Path(model_path_str)\n",
    "    local_image_file = Path(image_path_str)\n",
    "\n",
    "    print(f\"\\n--- เริ่มกระบวนการ Predict บนเครื่อง Local ---\")\n",
    "    try:\n",
    "        # 1. ตรวจสอบการมีอยู่ของไฟล์\n",
    "        print(f\"INFO: Current Working Directory: {Path.cwd()}\") # แสดง CWD เพื่อช่วยตรวจสอบ\n",
    "        print(f\"INFO: ตรวจสอบ Model Path (resolved): {local_model_file.resolve()}\")\n",
    "        if not local_model_file.is_file():\n",
    "            print(f\"!!! ERROR: ไม่พบไฟล์โมเดลที่: {local_model_file.resolve()}\")\n",
    "            return None, None\n",
    "        \n",
    "        print(f\"INFO: ตรวจสอบ Image Path (resolved): {local_image_file.resolve()}\")\n",
    "        if not local_image_file.is_file():\n",
    "            print(f\"!!! ERROR: ไม่พบไฟล์รูปภาพที่: {local_image_file.resolve()}\")\n",
    "            return None, None\n",
    "\n",
    "        # 2. โหลด Learner (โมเดลที่ฝึกแล้ว)\n",
    "        print(f\"INFO: กำลังโหลดโมเดลจาก: {local_model_file}\")\n",
    "        learn = load_learner(local_model_file)\n",
    "        print(\"INFO: โหลดโมเดลสำเร็จ!\")\n",
    "\n",
    "        # 3. ทำการ Predict รูปภาพ\n",
    "        print(f\"INFO: กำลังทำนายผลสำหรับรูปภาพ: {local_image_file.name}\")\n",
    "        pred_class, pred_idx, probs = learn.predict(local_image_file)\n",
    "\n",
    "        # 4. แสดงผลลัพธ์การ Predict\n",
    "        print(f\"\\n--- ผลการทำนาย ---\")\n",
    "        print(f\"  >> รูปภาพ: {local_image_file.name}\")\n",
    "        print(f\"  >> คลาสที่ทำนายได้ (Predicted Class): {pred_class}\")\n",
    "        print(f\"  >> ความน่าจะเป็นของคลาส '{pred_class}': {probs[pred_idx]:.4f}\")\n",
    "        print(f\"----------------\")\n",
    "\n",
    "        return pred_class, probs[pred_idx]\n",
    "\n",
    "    except RuntimeError as e:\n",
    "        print(f\"!!! ERROR (RuntimeError) ระหว่างการโหลดหรือ Predict: {e}\")\n",
    "        # (ส่วนจัดการ Error อื่นๆ เช่น Invalid magic number, PosixPath issue สามารถคงไว้ได้ถ้าต้องการ)\n",
    "        return None, None\n",
    "    except FileNotFoundError: # จัดการ FileNotFoundError โดยตรง\n",
    "        print(f\"!!! ERROR (FileNotFoundError): ไม่พบไฟล์โมเดลหรือรูปภาพหลังจาก resolve path\")\n",
    "        return None, None\n",
    "    except Exception as e:\n",
    "        print(f\"!!! ERROR (Exception ทั่วไป) ระหว่างการโหลดหรือ Predict: {e}\")\n",
    "        return None, None\n",
    "    # finally:\n",
    "        # (ส่วนคืนค่า Patch PosixPath ถ้าจำเป็น)\n",
    "        # if sys.platform == \"win32\" and _original_posix_path is not None:\n",
    "        #     pathlib.PosixPath = _original_posix_path\n",
    "\n",
    "\n",
    "# --- Path โมเดลและรูปภาพของคุณบนเครื่อง Local (ตามที่คุณให้มา) ---\n",
    "# แนะนำให้ใช้ Forward Slashes (/) เพื่อความเข้ากันได้และลดปัญหาบน Windows\n",
    "LOCAL_MODEL_PATH = \"E:/MyFastAI_Project_E/convnextv2_thev1_best_for_good.pkl\"\n",
    "LOCAL_IMAGE_PATH = \"E:\\MyFastAI_Project_E\\90173838_10222290352666927_2222217595073855488_n.jpg\"\n",
    "# --------------------------------------------------------------------\n",
    "\n",
    "print(f\"INFO: เริ่มต้นสคริปต์ Predict\")\n",
    "print(f\"INFO:   จะใช้โมเดลจาก: '{LOCAL_MODEL_PATH}'\")\n",
    "print(f\"INFO:   จะใช้รูปภาพจาก: '{LOCAL_IMAGE_PATH}'\\n\")\n",
    "\n",
    "predicted_label, confidence = predict_image_locally(\n",
    "    model_path_str=LOCAL_MODEL_PATH,\n",
    "    image_path_str=LOCAL_IMAGE_PATH\n",
    ")\n",
    "\n",
    "if predicted_label is not None:\n",
    "    print(f\"\\nสรุป: โมเดลทำนายว่าเป็นคลาส '{predicted_label}' ด้วยความมั่นใจ {confidence:.2%}\")\n",
    "else:\n",
    "    print(\"\\nไม่สามารถทำการทำนายผลได้ กรุณาตรวจสอบ Error ด้านบน\")\n",
    "\n",
    "print(f\"\\n--- สิ้นสุดโปรแกรม Predict ---\")"
   ]
  },
  {
   "cell_type": "code",
   "execution_count": 4,
   "id": "d62ab8e8",
   "metadata": {},
   "outputs": [
    {
     "name": "stderr",
     "output_type": "stream",
     "text": [
      "2025-05-31 00:16:37.612 WARNING streamlit.runtime.scriptrunner_utils.script_run_context: Thread 'MainThread': missing ScriptRunContext! This warning can be ignored when running in bare mode.\n",
      "2025-05-31 00:16:37.613 WARNING streamlit.runtime.scriptrunner_utils.script_run_context: Thread 'MainThread': missing ScriptRunContext! This warning can be ignored when running in bare mode.\n",
      "2025-05-31 00:16:37.614 WARNING streamlit.runtime.scriptrunner_utils.script_run_context: Thread 'MainThread': missing ScriptRunContext! This warning can be ignored when running in bare mode.\n",
      "2025-05-31 00:16:37.614 WARNING streamlit.runtime.scriptrunner_utils.script_run_context: Thread 'MainThread': missing ScriptRunContext! This warning can be ignored when running in bare mode.\n",
      "2025-05-31 00:16:37.614 WARNING streamlit.runtime.scriptrunner_utils.script_run_context: Thread 'MainThread': missing ScriptRunContext! This warning can be ignored when running in bare mode.\n",
      "2025-05-31 00:16:37.615 WARNING streamlit.runtime.scriptrunner_utils.script_run_context: Thread 'MainThread': missing ScriptRunContext! This warning can be ignored when running in bare mode.\n",
      "2025-05-31 00:16:37.615 WARNING streamlit.runtime.scriptrunner_utils.script_run_context: Thread 'MainThread': missing ScriptRunContext! This warning can be ignored when running in bare mode.\n",
      "2025-05-31 00:16:37.615 WARNING streamlit.runtime.scriptrunner_utils.script_run_context: Thread 'MainThread': missing ScriptRunContext! This warning can be ignored when running in bare mode.\n",
      "2025-05-31 00:16:37.616 WARNING streamlit.runtime.state.session_state_proxy: Session state does not function when running a script without `streamlit run`\n",
      "2025-05-31 00:16:37.616 WARNING streamlit.runtime.scriptrunner_utils.script_run_context: Thread 'MainThread': missing ScriptRunContext! This warning can be ignored when running in bare mode.\n",
      "2025-05-31 00:16:37.930 \n",
      "  \u001b[33m\u001b[1mWarning:\u001b[0m to view this Streamlit app on a browser, run it with the following\n",
      "  command:\n",
      "\n",
      "    streamlit run e:\\MyFastAI_Project_E\\ai_env_E\\Lib\\site-packages\\ipykernel_launcher.py [ARGUMENTS]\n",
      "2025-05-31 00:16:37.931 Thread 'MainThread': missing ScriptRunContext! This warning can be ignored when running in bare mode.\n",
      "2025-05-31 00:16:37.931 Thread 'MainThread': missing ScriptRunContext! This warning can be ignored when running in bare mode.\n",
      "2025-05-31 00:16:37.931 Thread 'MainThread': missing ScriptRunContext! This warning can be ignored when running in bare mode.\n",
      "2025-05-31 00:16:37.932 Thread 'MainThread': missing ScriptRunContext! This warning can be ignored when running in bare mode.\n",
      "2025-05-31 00:16:37.932 Thread 'MainThread': missing ScriptRunContext! This warning can be ignored when running in bare mode.\n",
      "2025-05-31 00:16:37.932 Thread 'MainThread': missing ScriptRunContext! This warning can be ignored when running in bare mode.\n",
      "2025-05-31 00:16:37.933 Thread 'MainThread': missing ScriptRunContext! This warning can be ignored when running in bare mode.\n",
      "2025-05-31 00:16:37.933 Thread 'MainThread': missing ScriptRunContext! This warning can be ignored when running in bare mode.\n",
      "2025-05-31 00:16:37.934 Thread 'MainThread': missing ScriptRunContext! This warning can be ignored when running in bare mode.\n",
      "2025-05-31 00:16:37.934 Thread 'MainThread': missing ScriptRunContext! This warning can be ignored when running in bare mode.\n",
      "2025-05-31 00:16:37.934 Thread 'MainThread': missing ScriptRunContext! This warning can be ignored when running in bare mode.\n",
      "2025-05-31 00:16:37.935 Thread 'MainThread': missing ScriptRunContext! This warning can be ignored when running in bare mode.\n",
      "2025-05-31 00:16:37.935 Thread 'MainThread': missing ScriptRunContext! This warning can be ignored when running in bare mode.\n",
      "2025-05-31 00:16:37.936 Thread 'MainThread': missing ScriptRunContext! This warning can be ignored when running in bare mode.\n",
      "2025-05-31 00:16:37.936 Thread 'MainThread': missing ScriptRunContext! This warning can be ignored when running in bare mode.\n",
      "2025-05-31 00:16:37.937 Thread 'MainThread': missing ScriptRunContext! This warning can be ignored when running in bare mode.\n",
      "2025-05-31 00:16:37.937 Thread 'MainThread': missing ScriptRunContext! This warning can be ignored when running in bare mode.\n",
      "2025-05-31 00:16:37.937 Thread 'MainThread': missing ScriptRunContext! This warning can be ignored when running in bare mode.\n",
      "2025-05-31 00:16:37.938 Thread 'MainThread': missing ScriptRunContext! This warning can be ignored when running in bare mode.\n",
      "2025-05-31 00:16:37.938 Thread 'MainThread': missing ScriptRunContext! This warning can be ignored when running in bare mode.\n",
      "2025-05-31 00:16:37.939 Thread 'MainThread': missing ScriptRunContext! This warning can be ignored when running in bare mode.\n",
      "2025-05-31 00:16:37.939 Thread 'MainThread': missing ScriptRunContext! This warning can be ignored when running in bare mode.\n",
      "2025-05-31 00:16:37.940 Thread 'MainThread': missing ScriptRunContext! This warning can be ignored when running in bare mode.\n",
      "2025-05-31 00:16:37.940 Thread 'MainThread': missing ScriptRunContext! This warning can be ignored when running in bare mode.\n",
      "2025-05-31 00:16:37.940 Thread 'MainThread': missing ScriptRunContext! This warning can be ignored when running in bare mode.\n",
      "2025-05-31 00:16:37.941 Thread 'MainThread': missing ScriptRunContext! This warning can be ignored when running in bare mode.\n",
      "2025-05-31 00:16:37.941 Thread 'MainThread': missing ScriptRunContext! This warning can be ignored when running in bare mode.\n",
      "2025-05-31 00:16:37.942 Thread 'MainThread': missing ScriptRunContext! This warning can be ignored when running in bare mode.\n",
      "2025-05-31 00:16:37.942 Thread 'MainThread': missing ScriptRunContext! This warning can be ignored when running in bare mode.\n"
     ]
    },
    {
     "data": {
      "text/plain": [
       "5"
      ]
     },
     "execution_count": 4,
     "metadata": {},
     "output_type": "execute_result"
    }
   ],
   "source": [
    "import streamlit as st\n",
    "\n",
    "cols = st.columns([2, 1, 2])\n",
    "minimum = cols[0].number_input(\"Minimum\", 1, 5)\n",
    "maximum = cols[2].number_input(\"Maximum\", 6, 10, 10)\n",
    "\n",
    "st.slider(\"No default, no key\", minimum, maximum)\n",
    "st.slider(\"No default, with key\", minimum, maximum, key=\"a\")\n",
    "st.slider(\"With default, no key\", minimum, maximum, value=5)\n",
    "st.slider(\"With default, with key\", minimum, maximum, value=5, key=\"b\")"
   ]
  },
  {
   "cell_type": "code",
   "execution_count": 1,
   "id": "16bd9e6d",
   "metadata": {},
   "outputs": [
    {
     "ename": "NameError",
     "evalue": "name 'learn' is not defined",
     "output_type": "error",
     "traceback": [
      "\u001b[31m---------------------------------------------------------------------------\u001b[39m",
      "\u001b[31mNameError\u001b[39m                                 Traceback (most recent call last)",
      "\u001b[36mCell\u001b[39m\u001b[36m \u001b[39m\u001b[32mIn[1]\u001b[39m\u001b[32m, line 3\u001b[39m\n\u001b[32m      1\u001b[39m \u001b[38;5;28;01mimport\u001b[39;00m\u001b[38;5;250m \u001b[39m\u001b[34;01mpandas\u001b[39;00m\u001b[38;5;250m \u001b[39m\u001b[38;5;28;01mas\u001b[39;00m\u001b[38;5;250m \u001b[39m\u001b[34;01mpd\u001b[39;00m\n\u001b[32m      2\u001b[39m df_probs = pd.DataFrame({\n\u001b[32m----> \u001b[39m\u001b[32m3\u001b[39m     \u001b[33m'\u001b[39m\u001b[33mClass\u001b[39m\u001b[33m'\u001b[39m: \u001b[43mlearn\u001b[49m.dls.vocab,  \u001b[38;5;66;03m# คำที่คาดว่าเป็นประเภทของอุจจาระ\u001b[39;00m\n\u001b[32m      4\u001b[39m     \u001b[33m'\u001b[39m\u001b[33mProbability\u001b[39m\u001b[33m'\u001b[39m: probs.numpy() * \u001b[32m100\u001b[39m  \u001b[38;5;66;03m# ความน่าจะเป็น\u001b[39;00m\n\u001b[32m      5\u001b[39m })\n",
      "\u001b[31mNameError\u001b[39m: name 'learn' is not defined"
     ]
    }
   ],
   "source": [
    "import pandas as pd\n",
    "df_probs = pd.DataFrame({\n",
    "    'Class': learn.dls.vocab,  # คำที่คาดว่าเป็นประเภทของอุจจาระ\n",
    "    'Probability': probs.numpy() * 100  # ความน่าจะเป็น\n",
    "})\n"
   ]
  }
 ],
 "metadata": {
  "kernelspec": {
   "display_name": "ai_env_E",
   "language": "python",
   "name": "python3"
  },
  "language_info": {
   "codemirror_mode": {
    "name": "ipython",
    "version": 3
   },
   "file_extension": ".py",
   "mimetype": "text/x-python",
   "name": "python",
   "nbconvert_exporter": "python",
   "pygments_lexer": "ipython3",
   "version": "3.11.8"
  }
 },
 "nbformat": 4,
 "nbformat_minor": 5
}
